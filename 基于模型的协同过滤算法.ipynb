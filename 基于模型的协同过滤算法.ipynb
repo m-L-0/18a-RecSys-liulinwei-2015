{
 "cells": [
  {
   "cell_type": "code",
   "execution_count": 35,
   "metadata": {
    "collapsed": false
   },
   "outputs": [],
   "source": [
    "import numpy as np\n",
    "import math\n",
    "\n",
    "# 加载数据集，生成字典\n",
    "def load_movielens(path=\"./ml-100k\"):\n",
    "    train = {}\n",
    "    test = {}\n",
    "    for line in open(path + '/ua.base', encoding='latin-1'):\n",
    "        user, movieid, rating, ts = line.split('\\t')\n",
    "        train.setdefault(user, {})\n",
    "        train[user][movieid] = float(rating)\n",
    "\n",
    "    for line in open(path + '/ua.test', encoding='latin-1'):\n",
    "        user, movieid, rating, ts = line.split('\\t')\n",
    "        test.setdefault(user, {})\n",
    "        test[user][movieid] = float(rating)\n",
    "    user_counts = 0\n",
    "    movie_counts = 0\n",
    "    for line in open(path + \"/u.info\", encoding='latin-1'):\n",
    "        count, content = line.strip().split(\" \")\n",
    "        if \"users\" in content:\n",
    "            user_counts = int(count)\n",
    "        elif \"items\" in content:\n",
    "            movie_counts = int(count)\n",
    "    return train, test, user_counts, movie_counts"
   ]
  },
  {
   "cell_type": "code",
   "execution_count": 36,
   "metadata": {
    "collapsed": true
   },
   "outputs": [],
   "source": [
    "def data2mat(data, user_counts=943, movie_counts=1682):\n",
    "    mat = np.zeros((user_counts, movie_counts), dtype=float)\n",
    "    for user, movies in data.items():\n",
    "        for movie, score in movies.items():\n",
    "            mat[int(user)-1][int(movie)-1] = float(int(score))\n",
    "    return mat"
   ]
  },
  {
   "cell_type": "code",
   "execution_count": 37,
   "metadata": {
    "collapsed": true
   },
   "outputs": [],
   "source": [
    "def top_k(predict, n):\n",
    "    \"\"\"为用户推荐前 n 个物品\n",
    "\n",
    "    Args:\n",
    "    - predict: list, 排好序的物品列表\n",
    "    - k: int, 推荐的物品个数\n",
    "\n",
    "    :return: top_recom, list, top n 个物品\n",
    "    \"\"\"\n",
    "    top_recom = []\n",
    "    len_result = len(predict)\n",
    "    if n >= len_result:\n",
    "        top_recom = predict\n",
    "    else:\n",
    "        for i in range(n):\n",
    "            top_recom.append(predict[i])\n",
    "    return top_recom"
   ]
  },
  {
   "cell_type": "code",
   "execution_count": 38,
   "metadata": {
    "collapsed": true
   },
   "outputs": [],
   "source": [
    "def sgd(data_matrix, k, alpha, lam, max_cycles):\n",
    "    \"\"\"使用梯度下降法进行矩阵分解。\n",
    "\n",
    "    Args:\n",
    "    - data_matrix: mat, 用户物品矩阵\n",
    "    - k: int, 分解矩阵的参数\n",
    "    - alpha: float, 学习率\n",
    "    - lam: float, 正则化参数\n",
    "    - max_cycles: int, 最大迭代次数\n",
    "\n",
    "    Returns:\n",
    "    p,q: mat, 分解后的矩阵\n",
    "    \"\"\"\n",
    "    m, n = np.shape(data_matrix)\n",
    "    # initiate p & q\n",
    "    p = np.mat(np.random.random((m, k)))\n",
    "    q = np.mat(np.random.random((k, n)))\n",
    "\n",
    "    # start training\n",
    "    for step in range(max_cycles):\n",
    "        for i in range(m):\n",
    "            for j in range(n):\n",
    "                if data_matrix[i, j] > 0:\n",
    "                    error = data_matrix[i, j]\n",
    "                    for r in range(k):\n",
    "                        error = error - p[i, r] * q[r, j]\n",
    "                    for r in range(k):\n",
    "                        p[i, r] = p[i, r] + alpha * (2 * error * q[r, j] - lam * p[i, r])\n",
    "                        q[r, j] = q[r, j] + alpha * (2 * error * p[i, r] - lam * q[r, j])\n",
    "\n",
    "        loss = 0.0\n",
    "        for i in range(m):\n",
    "            for j in range(n):\n",
    "                if data_matrix[i, j] > 0:\n",
    "                    error = 0.0\n",
    "                    for r in range(k):\n",
    "                        error = error + p[i, r] * q[r, j]\n",
    "                    # calculate loss function\n",
    "                    loss = (data_matrix[i, j] - error) * (data_matrix[i, j] - error)\n",
    "                    for r in range(k):\n",
    "                        loss = loss + lam * (p[i, r] * p[i, r] + q[r, j] * q[r, j]) / 2\n",
    "\n",
    "        if loss < 0.001:\n",
    "            break\n",
    "        if step % 1000 == 0:\n",
    "            print(\"\\titer: %d, loss: %f\" % (step, loss))\n",
    "    return p, q\n"
   ]
  },
  {
   "cell_type": "code",
   "execution_count": 39,
   "metadata": {
    "collapsed": true
   },
   "outputs": [],
   "source": [
    "def prediction(data_matrix, p, q, user):\n",
    "    \"\"\"为用户未互动的项打分\n",
    "\n",
    "    Args:\n",
    "    - data_matrix: mat, 原始用户物品矩阵\n",
    "    - p: mat, 分解后的矩阵p\n",
    "    - q: mat, 分解后的矩阵q\n",
    "    - user: int, 用户的id\n",
    "\n",
    "    Returns:\n",
    "    - predict: list, 推荐列表\n",
    "    \"\"\"\n",
    "    n = np.shape(data_matrix)[1]\n",
    "    predict = {}\n",
    "    for j in range(n):\n",
    "        if data_matrix[user, j] == 0:\n",
    "            predict[j] = (p[user,] * q[:, j])[0, 0]\n",
    "\n",
    "    # 按照打分从大到小排序\n",
    "    return sorted(predict.items(), key=lambda d: d[1], reverse=True)"
   ]
  },
  {
   "cell_type": "code",
   "execution_count": 40,
   "metadata": {
    "collapsed": true
   },
   "outputs": [],
   "source": [
    "# 计算召回率\n",
    "def recall(train, test, N, rank):\n",
    "    hit = 0\n",
    "    all = 0\n",
    "    new_rank = top_k(rank, N)\n",
    "    for user in train.keys():\n",
    "        tu = test[user]\n",
    "        for item, pui in new_rank:\n",
    "            if str(item+1) in tu:\n",
    "                hit += 1\n",
    "        all += len(tu)\n",
    "    return hit / (all * 1.0)\n",
    "\n",
    "\n",
    "# 计算准确率\n",
    "def precision(train, test, N, rank):\n",
    "    hit = 0\n",
    "    all = 0\n",
    "    new_rank = top_k(rank, N)\n",
    "    for user in train.keys():\n",
    "        tu = test[user]\n",
    "        for item, pui in new_rank:\n",
    "            if str(item+1) in tu:\n",
    "                hit += 1\n",
    "        all += N\n",
    "    return hit / (all * 1.0)\n",
    "\n",
    "\n",
    "# 计算覆盖率\n",
    "def coverage(train, test, N, rank):\n",
    "    recommend_items = set()\n",
    "    all_items = set()\n",
    "    new_rank = top_k(rank, N)\n",
    "    for user in train.keys():\n",
    "        for item in train[user].keys():\n",
    "            all_items.add(item)\n",
    "\n",
    "        for item, pui in new_rank:\n",
    "            recommend_items.add(str(item+1))\n",
    "    return len(recommend_items) / (len(all_items) * 1.0)\n",
    "\n",
    "\n",
    "# 平均流行度\n",
    "def popularity(train, test, N, rank):\n",
    "    item_popularity = dict()\n",
    "    for user, items in train.items():\n",
    "        for item in items.keys():\n",
    "            if item not in item_popularity:\n",
    "                item_popularity[item] = 0\n",
    "            item_popularity[item] += 1\n",
    "    ret = 0\n",
    "    n = 0\n",
    "    for user in train.keys():\n",
    "        new_rank = top_k(rank, N)\n",
    "        for item, pui in new_rank:\n",
    "            ret += math.log(1 + item_popularity[str(item+1)])\n",
    "            n += 1\n",
    "    ret /= n * 1.0\n",
    "    return ret"
   ]
  },
  {
   "cell_type": "code",
   "execution_count": 43,
   "metadata": {
    "collapsed": true
   },
   "outputs": [],
   "source": [
    "def main():\n",
    "    path = './ml-100k'\n",
    "    train, test, user_counts, movie_counts = load_movielens(path)\n",
    "    data = data2mat(train)\n",
    "    p, q = sgd(data,2, 1e-4, 0.01, 10)\n",
    "    rank = top_k(prediction(data, p, q, 100), 10)\n",
    "    print(top_k(rank, 10))\n",
    "    print(\"准确率：\", precision(train, test, 10, rank))\n",
    "    print(\"召回率：\",recall(train, test, 10, rank))\n",
    "    print(\"覆盖率：\", coverage(train, test, 10, rank))\n",
    "    print(\"流行度：\", popularity(train, test, 10, rank))"
   ]
  },
  {
   "cell_type": "code",
   "execution_count": 44,
   "metadata": {
    "collapsed": false
   },
   "outputs": [
    {
     "name": "stdout",
     "output_type": "stream",
     "text": [
      "\titer: 0, loss: 6.330045\n",
      "[(173, 2.4904735270695468), (99, 2.4338484813056902), (55, 2.4049479529949505), (126, 2.3794473976073842), (317, 2.3383145380061108), (167, 2.3343795133786065), (97, 2.3231040689856997), (312, 2.2474406893495935), (171, 2.2458048877053693), (182, 2.2114687006722038)]\n",
      "准确率： 0.04623541887592789\n",
      "召回率： 0.04623541887592789\n",
      "覆盖率： 0.005952380952380952\n",
      "流行度： 5.793236556384994\n"
     ]
    }
   ],
   "source": [
    "if __name__ == '__main__':\n",
    "    main()"
   ]
  },
  {
   "cell_type": "code",
   "execution_count": null,
   "metadata": {
    "collapsed": true
   },
   "outputs": [],
   "source": []
  }
 ],
 "metadata": {
  "kernelspec": {
   "display_name": "Python 3",
   "language": "python",
   "name": "python3"
  },
  "language_info": {
   "codemirror_mode": {
    "name": "ipython",
    "version": 3
   },
   "file_extension": ".py",
   "mimetype": "text/x-python",
   "name": "python",
   "nbconvert_exporter": "python",
   "pygments_lexer": "ipython3",
   "version": "3.6.0"
  }
 },
 "nbformat": 4,
 "nbformat_minor": 2
}
