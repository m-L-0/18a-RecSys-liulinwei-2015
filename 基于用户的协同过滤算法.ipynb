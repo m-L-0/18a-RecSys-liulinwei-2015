{
 "cells": [
  {
   "cell_type": "code",
   "execution_count": 23,
   "metadata": {
    "collapsed": false
   },
   "outputs": [],
   "source": [
    "import numpy as np\n",
    "import math\n",
    "import random\n",
    "# 加载训练集和测试集\n",
    "def load_movielens(path):\n",
    "    train = {} \n",
    "    test = {}\n",
    "    for line in open(path + '/ua.base', encoding='latin-1'):\n",
    "        user, movieid, rating, timestamp = line.split('\\t')\n",
    "        train.setdefault(user, {})\n",
    "        train[user][movieid] = float(rating)\n",
    "\n",
    "    for line in open(path + '/ua.test', encoding='latin-1'):\n",
    "        user, movieid, rating, timestamp = line.split('\\t')\n",
    "        test.setdefault(user, {})\n",
    "        test[user][movieid] = float(rating)\n",
    "\n",
    "    user_counts = 0\n",
    "    movie_counts = 0\n",
    "    # 在u数据集中的用户、项目和评级的数量。\n",
    "    for line in open(path + \"/u.info\", encoding='latin-1'):\n",
    "        count, content = line.strip().split(\" \")\n",
    "        if \"users\" in content:\n",
    "            user_counts = int(count)\n",
    "        elif \"items\" in content:\n",
    "            movie_counts = int(count)\n",
    "    return train, test, user_counts, movie_counts"
   ]
  },
  {
   "cell_type": "code",
   "execution_count": 24,
   "metadata": {
    "collapsed": true
   },
   "outputs": [],
   "source": [
    "# 将数据集转化为行向量\n",
    "def data2mat(data, user_counts=943, movie_counts=1682):\n",
    "    mat = np.zeros((user_counts, movie_counts), dtype=float)\n",
    "    for user, movies in data.items():\n",
    "        for movie, score in movies.items():\n",
    "            mat[int(user)-1][int(movie)-1] = float(int(score))\n",
    "    return mat"
   ]
  },
  {
   "cell_type": "code",
   "execution_count": 25,
   "metadata": {
    "collapsed": true
   },
   "outputs": [],
   "source": [
    "# 余弦相似性\n",
    "def cos_sim(x, y):\n",
    "    \"\"\"余弦相似性\n",
    "\n",
    "    Args:\n",
    "    - x: mat, 以行向量的形式存储\n",
    "    - y: mat, 以行向量的形式存储\n",
    "\n",
    "    :return: x 和 y 之间的余弦相似度\n",
    "    \"\"\"\n",
    "    numerator = np.matmul(x, y.T)  # x 和 y 之间的内积\n",
    "    denominator = np.sqrt(np.matmul(x, x.T)) * np.sqrt(np.matmul(y, y.T))\n",
    "    return (numerator / denominator)"
   ]
  },
  {
   "cell_type": "code",
   "execution_count": 26,
   "metadata": {
    "collapsed": true
   },
   "outputs": [],
   "source": [
    "# 对于任意矩阵，计算任意两个行向量之间的相似度：\n",
    "def similarity(data):\n",
    "    \"\"\"计算矩阵中任意两行之间的相似度\n",
    "    Args:\n",
    "    - data: mat, 任意矩阵\n",
    "\n",
    "    :return: w, mat, 任意两行之间的相似度\n",
    "    \"\"\"\n",
    "\n",
    "    m = np.shape(data)[0]  # 用户的数量\n",
    "    # 初始化相似矩阵\n",
    "    w = np.mat(np.zeros((m, m)))\n",
    "\n",
    "    for i in range(m):\n",
    "        for j in range(i, m):\n",
    "            if not j == i:\n",
    "                # 计算任意两行之间的相似度\n",
    "                w[i, j] = cos_sim(data[i], data[j])\n",
    "                w[j, i] = w[i, j]\n",
    "            else:\n",
    "                w[i, j] = 0\n",
    "    return w"
   ]
  },
  {
   "cell_type": "code",
   "execution_count": 27,
   "metadata": {
    "collapsed": true
   },
   "outputs": [],
   "source": [
    "# 实现UserCF 算法：\n",
    "\n",
    "def user_based_recommend(data, w, user):\n",
    "    \"\"\"基于用户相似性为用户 user 推荐物品\n",
    "\n",
    "    Args:\n",
    "    - data: mat, 用户物品矩阵\n",
    "    - w: mat, 用户之间的相似度\n",
    "    - user: int, 用户编号\n",
    "\n",
    "    :return: predict, list, 推荐列表\n",
    "    \"\"\"\n",
    "    m, n = np.shape(data)\n",
    "    interaction = data[int(user)-1,]  # 用户 user 与物品信息\n",
    "\n",
    "    # 找到用户 user 没有互动过的物品\n",
    "    not_inter = []\n",
    "    for i in range(n):\n",
    "        if interaction[i] == 0:  # 没有互动的物品\n",
    "            not_inter.append(i)\n",
    "\n",
    "    # 对没有互动过的物品进行预测\n",
    "    predict = {}\n",
    "    for x in not_inter:\n",
    "        item = np.copy(data[:, x])  # 找到所有用户对商品 x 的互动信息\n",
    "        for i in range(m):  # 对每一个用户\n",
    "            if item[i] != 0:\n",
    "                if x not in predict:\n",
    "                    predict[x] = w[user, i] * item[i]\n",
    "                else:\n",
    "                    predict[x] = predict[x] + w[user, i] + item[i]\n",
    "    return sorted(predict.items(), key=lambda d: d[1], reverse=True)"
   ]
  },
  {
   "cell_type": "code",
   "execution_count": 28,
   "metadata": {
    "collapsed": true
   },
   "outputs": [],
   "source": [
    "# 为用户推荐前 $N$ 个打分最高的物品\n",
    "def top_k(predict, n):\n",
    "    \"\"\"为用户推荐前 n 个物品\n",
    "\n",
    "    Args:\n",
    "    - predict: list, 排好序的物品列表\n",
    "    - k: int, 推荐的物品个数\n",
    "\n",
    "    :return: top_recom, list, top n 个物品\n",
    "    \"\"\"\n",
    "    top_recom = []\n",
    "    len_result = len(predict)\n",
    "    if n >= len_result:\n",
    "        top_recom = predict\n",
    "    else:\n",
    "        for i in range(n):\n",
    "            top_recom.append(predict[i])\n",
    "    return top_recom\n"
   ]
  },
  {
   "cell_type": "code",
   "execution_count": 29,
   "metadata": {
    "collapsed": true
   },
   "outputs": [],
   "source": [
    "# 计算召回率\n",
    "def recall(train, test, N, predict):\n",
    "    hit = 0\n",
    "    all = 0\n",
    "    new_predict = top_k(predict, N)\n",
    "    for user in train.keys():\n",
    "        tu = test[user]\n",
    "        for item, pui in new_predict:\n",
    "            if str(item+1) in tu:\n",
    "                hit += 1\n",
    "        all += len(tu)\n",
    "    return hit / (all * 1.0)\n",
    "\n",
    "# 计算准确率\n",
    "def precision(train, test, N, predict):\n",
    "    hit = 0\n",
    "    all = 0\n",
    "    new_predict = top_k(predict, N)\n",
    "    for user in train.keys():\n",
    "        tu = test[user]\n",
    "        for item, pui in new_predict:\n",
    "            if str(item+1) in tu:\n",
    "                hit += 1\n",
    "        all += N\n",
    "    return hit / (all * 1.0)\n",
    "\n",
    "\n",
    "# 计算覆盖率\n",
    "def coverage(train, test, N, predict):\n",
    "    recommend_items = set()\n",
    "    all_items = set()\n",
    "    new_predict = top_k(predict, N)\n",
    "    for user in train.keys():\n",
    "        for item in train[user].keys():\n",
    "            all_items.add(item)\n",
    "\n",
    "        for item, pui in new_predict:\n",
    "            recommend_items.add(str(item+1))\n",
    "    return len(recommend_items) / (len(all_items) * 1.0)\n",
    "\n",
    "\n",
    "# 平均流行度\n",
    "def popularity(train, test, N, predict):\n",
    "    item_popularity = dict()\n",
    "    for user, items in train.items():\n",
    "        for item in items.keys():\n",
    "            if item not in item_popularity:\n",
    "                item_popularity[item] = 0\n",
    "            item_popularity[item] += 1\n",
    "    ret = 0\n",
    "    n = 0\n",
    "    for user in train.keys():\n",
    "        new_predict = top_k(predict, N)\n",
    "        for item, pui in new_predict:\n",
    "            ret += math.log(1 + item_popularity[str(item+1)])\n",
    "            n += 1\n",
    "    ret /= n * 1.0\n",
    "    return ret"
   ]
  },
  {
   "cell_type": "code",
   "execution_count": 54,
   "metadata": {
    "collapsed": false
   },
   "outputs": [],
   "source": [
    "def main():\n",
    "    path = './ml-100k'\n",
    "    train, test, user_counts, movie_counts = load_movielens(path)\n",
    "    mat = data2mat(train)\n",
    "    w = similarity(mat)\n",
    "    for i in [50,100,150,200,250]:\n",
    "        predict = user_based_recommend(mat,w, i)\n",
    "        print('用户：', i)\n",
    "        print(\"准确率：\", precision(train, test, 20, predict))\n",
    "        print(\"召回率：\",recall(train, test, 20, predict))\n",
    "        print(\"覆盖率：\", coverage(train, test, 20, predict))\n",
    "        print(\"流行度：\", popularity(train, test, 20, predict))\n",
    "        print(\"------------------------\")"
   ]
  },
  {
   "cell_type": "code",
   "execution_count": 55,
   "metadata": {
    "collapsed": false
   },
   "outputs": [
    {
     "name": "stdout",
     "output_type": "stream",
     "text": [
      "用户： 50\n",
      "准确率： 0.056733828207847295\n",
      "召回率： 0.11346765641569459\n",
      "覆盖率： 0.011904761904761904\n",
      "流行度： 5.879745408179353\n",
      "------------------------\n",
      "用户： 100\n",
      "准确率： 0.05090137857900318\n",
      "召回率： 0.10180275715800637\n",
      "覆盖率： 0.011904761904761904\n",
      "流行度： 5.8621099117134365\n",
      "------------------------\n",
      "用户： 150\n",
      "准确率： 0.0535524920466596\n",
      "召回率： 0.1071049840933192\n",
      "覆盖率： 0.011904761904761904\n",
      "流行度： 5.864893067568947\n",
      "------------------------\n",
      "用户： 200\n",
      "准确率： 0.041410392364793214\n",
      "召回率： 0.08282078472958643\n",
      "覆盖率： 0.011904761904761904\n",
      "流行度： 5.645394498830135\n",
      "------------------------\n",
      "用户： 250\n",
      "准确率： 0.03966065747613998\n",
      "召回率： 0.07932131495227995\n",
      "覆盖率： 0.011904761904761904\n",
      "流行度： 5.6934334140693865\n",
      "------------------------\n"
     ]
    }
   ],
   "source": [
    "if __name__ == '__main__':\n",
    "    main()"
   ]
  },
  {
   "cell_type": "code",
   "execution_count": null,
   "metadata": {
    "collapsed": true
   },
   "outputs": [],
   "source": []
  }
 ],
 "metadata": {
  "kernelspec": {
   "display_name": "Python 3",
   "language": "python",
   "name": "python3"
  },
  "language_info": {
   "codemirror_mode": {
    "name": "ipython",
    "version": 3
   },
   "file_extension": ".py",
   "mimetype": "text/x-python",
   "name": "python",
   "nbconvert_exporter": "python",
   "pygments_lexer": "ipython3",
   "version": "3.6.0"
  }
 },
 "nbformat": 4,
 "nbformat_minor": 2
}
